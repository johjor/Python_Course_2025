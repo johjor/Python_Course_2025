{
 "cells": [
  {
   "cell_type": "markdown",
   "id": "48f226c8",
   "metadata": {},
   "source": [
    "#### This is the script for creating a picture with the different colors I use in my project. Parts of this is created with the help of ChatUiT."
   ]
  },
  {
   "cell_type": "code",
   "execution_count": 2,
   "id": "32cd246d",
   "metadata": {},
   "outputs": [
    {
     "data": {
      "image/png": "[encoded data removed]",
      "text/plain": [
       "<Figure size 1000x200 with 1 Axes>"
      ]
     },
     "metadata": {},
     "output_type": "display_data"
    }
   ],
   "source": [
    "import matplotlib.pyplot as plt\n",
    "\n",
    "# List of color codes\n",
    "colors = ['#FFA23A', '#CBD5E8', '#b4caf2', '#E6F5C9', '#ACF39D', '#00bd84', \n",
    "          '#a1d8ca', '#FFDA03', '#F4CAE4', '#FF88DC', '#ffc568', '#91A6FF', \n",
    "          '#9CFFFA']\n",
    "\n",
    "# Create a figure\n",
    "plt.figure(figsize=(10, 2))\n",
    "\n",
    "# Loop through each color and create a rectangle\n",
    "for i, color in enumerate(colors):\n",
    "    plt.fill_between([i, i + 1], 0, 1, color=color)\n",
    "\n",
    "# Remove axes\n",
    "plt.axis('off')\n",
    "\n",
    "plt.savefig(('../source/Easter_Themed_Colors.png'))\n",
    "\n",
    "# Display the figure\n",
    "plt.show()"
   ]
  }
 ],
 "metadata": {
  "kernelspec": {
   "display_name": "Python 3",
   "language": "python",
   "name": "python3"
  },
  "language_info": {
   "codemirror_mode": {
    "name": "ipython",
    "version": 3
   },
   "file_extension": ".py",
   "mimetype": "text/x-python",
   "name": "python",
   "nbconvert_exporter": "python",
   "pygments_lexer": "ipython3",
   "version": "3.13.1"
  }
 },
 "nbformat": 4,
 "nbformat_minor": 5
}
