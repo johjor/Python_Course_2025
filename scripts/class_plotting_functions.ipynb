{
 "cells": [
  {
   "cell_type": "code",
   "execution_count": null,
   "metadata": {},
   "outputs": [],
   "source": [
    "# Dataplotter - a class\n",
    "# This class implements five plotting funcitons\n",
    "# Create a function for each plot I want. \n",
    "# Create a function \"determine plot\" which take the different plots I want, as the argument\n",
    "#This way I can put in the variables I want\n",
    "# Create a dictionary to map plot names to a function"
   ]
  }
 ],
 "metadata": {
  "language_info": {
   "name": "python"
  }
 },
 "nbformat": 4,
 "nbformat_minor": 2
}
