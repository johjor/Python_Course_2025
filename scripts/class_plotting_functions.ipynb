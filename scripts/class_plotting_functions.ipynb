{
 "cells": [
  {
   "cell_type": "code",
   "execution_count": null,
   "metadata": {},
   "outputs": [],
   "source": [
    "# Dataplotter - a class\n",
    "# This class implements five plotting funcitons\n",
    "# Create a function for each plot I want. \n",
    "# Create a function \"determine plot\" which take the different plots I want, as the argument\n",
    "#This way I can put in the variables I want\n",
    "# Create a dictionary to map plot names to a function"
   ]
  },
  {
   "cell_type": "code",
   "execution_count": null,
   "metadata": {},
   "outputs": [
    {
     "name": "stdout",
     "output_type": "stream",
     "text": [
      "                                                name  year movie_rated  \\\n",
      "0                                          Inception  2010       PG-13   \n",
      "1  The Lord of the Rings: The Fellowship of the Ring  2001       PG-13   \n",
      "2      The Lord of the Rings: The Return of the King  2003       PG-13   \n",
      "3                              The Dark Knight Rises  2012       PG-13   \n",
      "4              The Lord of the Rings: The Two Towers  2002       PG-13   \n",
      "\n",
      "  run_length                       genres            release_date  rating  \\\n",
      "0   2h 28min  Action; Adventure; Sci-Fi;       16 July 2010 (USA)     8.8   \n",
      "1   2h 58min   Action; Adventure; Drama;   19 December 2001 (USA)     8.8   \n",
      "2   3h 21min  Adventure; Drama; Fantasy;   17 December 2003 (USA)     8.9   \n",
      "3   2h 44min          Action; Adventure;       20 July 2012 (USA)     8.4   \n",
      "4   2h 59min  Adventure; Drama; Fantasy;   18 December 2002 (USA)     8.7   \n",
      "\n",
      "   num_raters  num_reviews  \n",
      "0     1981675         3820  \n",
      "1     1609165         5365  \n",
      "2     1593859         3681  \n",
      "3     1470329         2979  \n",
      "4     1440188         2559  \n"
     ]
    }
   ],
   "source": [
    "# Specify the correct path to the CSV file with the name of the CSV file\n",
    "dataset_path = \"../data/merged_dataset.csv\"\n",
    "\n",
    "# Create a dataframe that will be used for visualization\n",
    "df_visualisation = pd.read_csv(dataset_path)\n",
    "\n",
    "print(df_visualisation.head()) #Check if CSV is loading correctly"
   ]
  },
  {
   "cell_type": "code",
   "execution_count": null,
   "metadata": {},
   "outputs": [],
   "source": [
    "import matplotlib.pyplot as plt\n",
    "import csv\n",
    "import pandas as pd\n",
    "\n",
    "# Creating a class\n",
    "class Plotter():\n",
    "    def __init__(self, dataset_path):\n",
    "        self.csv_path = dataset_path\n",
    "                \n",
    "        # key = plot, value = plotting function\n",
    "        self.plot_dict = {\n",
    "            0:self.action_by_year,\n",
    "            1:self.movies_per_season\n",
    "        }\n",
    "    \n",
    "    def determine_plot(self, plot):\n",
    "        # call function based on the plot you want\n",
    "        self.plot_dict[plot]()\n",
    "\n",
    "    # plotting function 1\n",
    "    def action_by_year(self):\n",
    "        print(\"Action by year\")\n",
    "        # save the plot to plots folder\n",
    "    \n",
    "    # plotting function 2\n",
    "    def movies_per_season(self):\n",
    "        print(\"Movies per season\")\n",
    "        # save the plot to plots folder"
   ]
  },
  {
   "cell_type": "code",
   "execution_count": 28,
   "metadata": {},
   "outputs": [],
   "source": [
    "import matplotlib.pyplot as plt\n",
    "import pandas as pd\n",
    "\n",
    "# Creating a class\n",
    "class Plotter():\n",
    "    def __init__(self, df_visualisation, save_dir=\"scripts/plots\"):\n",
    "        self.csv_path = df_visualisation #store dataset\n",
    "        self.save_dir = save_dir #Plots is set as default folder where plots will be saved, store directory where plots will be saved\n",
    "\n",
    "    \n",
    "                \n",
    "        # key = plot, value = plotting function\n",
    "        self.plot_dict = {\n",
    "            0:self.action_by_year,\n",
    "            1:self.movies_per_season\n",
    "        }\n",
    "    \n",
    "\n",
    "    def determine_plot(self, plot):\n",
    "        # call function based on the plot you want\n",
    "        self.plot_dict[plot]()\n",
    "\n",
    "    # plotting function 1\n",
    "    def action_by_year(self, colormap=\"Blues\", save_fig=True):\n",
    "        \"\"\"Plot number of action movies per year\"\"\"\n",
    "        print(\"Generating Action Movies by year plot...\")\n",
    "\n",
    "        years = self.df.index\n",
    "        counts = self.df.values\n",
    "        \n",
    "        plt.figure(figsize=(12, 6))\n",
    "\n",
    "        # line plot\n",
    "        plt.plot(years, counts, color=\"grey\", linestyle=\"-\", linewidth=2, alpha=0.7)\n",
    "        \n",
    "        # scatter plot with color scale\n",
    "        sc = plt.scatter(years, counts, c=colors, edgecolors =\"black\", s=100, zorder=3)\n",
    "\n",
    "        #Labels and grid\n",
    "        plt.title(\"Number of Action Movies Released Over Time\", fontsize=14, fontweight=\"bold\")\n",
    "        plt.xlabel(\"Year\", fontsize=12)\n",
    "        plt.ylabel(\"Number of Movies\", fontsize=12)\n",
    "        plt.grid(True, linestyle=\"--\", alpha=0.5)\n",
    "\n",
    "        #add color bar\n",
    "        cbar = plt.colorbar(sc)\n",
    "        cbar.set_label(\"Number of Movies\")\n",
    "\n",
    "        plt.show()\n",
    "\n",
    "        # save the plot to plots folder\n",
    "    \n",
    "    # plotting function 2\n",
    "    def movies_per_season(self):\n",
    "        print(\"Movies per season\")\n",
    "        # save the plot to plots folder"
   ]
  },
  {
   "cell_type": "code",
   "execution_count": 6,
   "metadata": {},
   "outputs": [
    {
     "ename": "NameError",
     "evalue": "name 'data_path' is not defined",
     "output_type": "error",
     "traceback": [
      "\u001b[1;31m---------------------------------------------------------------------------\u001b[0m",
      "\u001b[1;31mNameError\u001b[0m                                 Traceback (most recent call last)",
      "Cell \u001b[1;32mIn[6], line 2\u001b[0m\n\u001b[0;32m      1\u001b[0m \u001b[38;5;28;01mif\u001b[39;00m \u001b[38;5;18m__name__\u001b[39m \u001b[38;5;241m==\u001b[39m \u001b[38;5;124m\"\u001b[39m\u001b[38;5;124m__main__\u001b[39m\u001b[38;5;124m\"\u001b[39m:\n\u001b[1;32m----> 2\u001b[0m     movie_data_plotter \u001b[38;5;241m=\u001b[39m \u001b[43mPlotter\u001b[49m\u001b[43m(\u001b[49m\u001b[38;5;124;43m\"\u001b[39;49m\u001b[38;5;124;43m../data/test.csv\u001b[39;49m\u001b[38;5;124;43m\"\u001b[39;49m\u001b[43m)\u001b[49m\n\u001b[0;32m      4\u001b[0m     num_plots \u001b[38;5;241m=\u001b[39m \u001b[38;5;241m10\u001b[39m\n\u001b[0;32m      6\u001b[0m     \u001b[38;5;28;01mfor\u001b[39;00m i \u001b[38;5;129;01min\u001b[39;00m \u001b[38;5;28mrange\u001b[39m(num_plots):\n",
      "Cell \u001b[1;32mIn[5], line 8\u001b[0m, in \u001b[0;36mPlotter.__init__\u001b[1;34m(self, dataset_path)\u001b[0m\n\u001b[0;32m      7\u001b[0m \u001b[38;5;28;01mdef\u001b[39;00m\u001b[38;5;250m \u001b[39m\u001b[38;5;21m__init__\u001b[39m(\u001b[38;5;28mself\u001b[39m, dataset_path):\n\u001b[1;32m----> 8\u001b[0m     \u001b[38;5;28mself\u001b[39m\u001b[38;5;241m.\u001b[39mcsv_path \u001b[38;5;241m=\u001b[39m \u001b[43mdata_path\u001b[49m\n\u001b[0;32m     10\u001b[0m     \u001b[38;5;66;03m# key = plot, value = plotting function\u001b[39;00m\n\u001b[0;32m     11\u001b[0m     \u001b[38;5;28mself\u001b[39m\u001b[38;5;241m.\u001b[39mplot_dict \u001b[38;5;241m=\u001b[39m {\n\u001b[0;32m     12\u001b[0m         \u001b[38;5;241m0\u001b[39m:\u001b[38;5;28mself\u001b[39m\u001b[38;5;241m.\u001b[39maction_by_year,\n\u001b[0;32m     13\u001b[0m         \u001b[38;5;241m1\u001b[39m:\u001b[38;5;28mself\u001b[39m\u001b[38;5;241m.\u001b[39mmovies_per_season\n\u001b[0;32m     14\u001b[0m     }\n",
      "\u001b[1;31mNameError\u001b[0m: name 'data_path' is not defined"
     ]
    }
   ],
   "source": [
    "if __name__ == \"__main__\":\n",
    "    movie_data_plotter = Plotter(\"../data/test.csv\")\n",
    "    \n",
    "    num_plots = 10\n",
    "    \n",
    "    for i in range(num_plots):\n",
    "        movie_data_plotter.determine_plot(i)"
   ]
  }
 ],
 "metadata": {
  "kernelspec": {
   "display_name": "Python 3",
   "language": "python",
   "name": "python3"
  },
  "language_info": {
   "codemirror_mode": {
    "name": "ipython",
    "version": 3
   },
   "file_extension": ".py",
   "mimetype": "text/x-python",
   "name": "python",
   "nbconvert_exporter": "python",
   "pygments_lexer": "ipython3",
   "version": "3.13.1"
  }
 },
 "nbformat": 4,
 "nbformat_minor": 2
}
