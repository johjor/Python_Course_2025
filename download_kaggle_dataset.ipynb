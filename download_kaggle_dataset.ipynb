{
 "cells": [
  {
   "cell_type": "markdown",
   "metadata": {},
   "source": [
    "# Download the dataset\n",
    "The visualization in this repository is based on a dataset from Kaggle. To use the KaggleHub API, I first installed the kagglehub package by running pip install kagglehub in the terminal.\n",
    "\n",
    "To access datasets from KaggleHub, I needed to authenticate. I did this by setting up a Kaggle API key (kaggle.json) in my Kaggle account, where I generated an API token. After that, I downloaded the dataset using KaggleHub, as shown below:"
   ]
  },
  {
   "cell_type": "code",
   "execution_count": null,
   "metadata": {},
   "outputs": [
    {
     "name": "stdout",
     "output_type": "stream",
     "text": [
      "Dataset URL: https://www.kaggle.com/datasets/krishnanshverma/imdb-movies-dataset\n",
      "Downloaded dataset using the kaggle api to the directory data\n"
     ]
    }
   ],
   "source": [
    "import kagglehub\n",
    "import kaggle\n",
    "# Downloading dataset from kagglehub using my API key which is connected to my email for my account on kaggle.\n",
    "# This is the way i interact with the kagglehub API to retrieve the dataset used on this exam.\n",
    "\n",
    "# note, only required to run this once to get the neccessary data\n",
    "\n",
    "# authenticate using my api key\n",
    "kaggle.api.authenticate()\n",
    "\n",
    "# download the dataset using the api\n",
    "kaggle.api.dataset_download_file(dataset=\"krishnanshverma/imdb-movies-dataset\", path=\"data\", file_name=\"merged_dataset.csv\")\n",
    "\n",
    "# Print the path where the dataset is stored\n",
    "print(\"Downloaded dataset using the kaggle api to the directory data\")"
   ]
  }
 ],
 "metadata": {
  "kernelspec": {
   "display_name": "Python 3",
   "language": "python",
   "name": "python3"
  },
  "language_info": {
   "codemirror_mode": {
    "name": "ipython",
    "version": 3
   },
   "file_extension": ".py",
   "mimetype": "text/x-python",
   "name": "python",
   "nbconvert_exporter": "python",
   "pygments_lexer": "ipython3",
   "version": "3.13.1"
  }
 },
 "nbformat": 4,
 "nbformat_minor": 2
}
