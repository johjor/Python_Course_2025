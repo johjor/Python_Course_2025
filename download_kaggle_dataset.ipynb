{
 "cells": [
  {
   "cell_type": "markdown",
   "metadata": {},
   "source": [
    "The visualisation in this repository is based on a dataset from Kaggle. To use the Kagglehub API, I first installed the kagglehub package with the command pip install kagglehub in the terminal. To use datasets from Kagglehub I had to get an authenticate - to do this I sat up a Kaggle API key (kaggle.json) from my Kaggle account where I created a API Token. Therafter I downloaded the dataset usinng kagglehub, see below:"
   ]
  },
  {
   "cell_type": "code",
   "execution_count": 4,
   "metadata": {},
   "outputs": [
    {
     "name": "stdout",
     "output_type": "stream",
     "text": [
      "Downloading from https://www.kaggle.com/api/v1/datasets/download/krishnanshverma/imdb-movies-dataset?dataset_version_number=1...\n"
     ]
    },
    {
     "name": "stderr",
     "output_type": "stream",
     "text": [
      "100%|██████████| 38.4k/38.4k [00:00<00:00, 502kB/s]"
     ]
    },
    {
     "name": "stdout",
     "output_type": "stream",
     "text": [
      "Extracting files...\n",
      "Path to dataset files: C:\\Users\\bruker\\.cache\\kagglehub\\datasets\\krishnanshverma\\imdb-movies-dataset\\versions\\1\n"
     ]
    },
    {
     "name": "stderr",
     "output_type": "stream",
     "text": [
      "\n"
     ]
    }
   ],
   "source": [
    "import kagglehub\n",
    "\n",
    "# Download the latest version of the dataset\n",
    "path = kagglehub.dataset_download(\"krishnanshverma/imdb-movies-dataset\")\n",
    "\n",
    "# Print the path where the dataset is stored\n",
    "print(\"Path to dataset files:\", path)"
   ]
  },
  {
   "cell_type": "code",
   "execution_count": null,
   "metadata": {},
   "outputs": [
    {
     "name": "stdout",
     "output_type": "stream",
     "text": [
      "merged_dataset.csv\n"
     ]
    }
   ],
   "source": [
    "import os\n",
    "\n",
    "# Specify the directory where the dataset is downloaded\n",
    "dataset_directory = r'C:\\Users\\bruker\\.cache\\kagglehub\\datasets\\krishnanshverma\\imdb-movies-dataset\\versions\\1'\n",
    "\n",
    "# List all files in the directory to find the name of the file\n",
    "for root, dirs, files in os.walk(dataset_directory):\n",
    "    for file in files:\n",
    "        print(file)"
   ]
  },
  {
   "cell_type": "code",
   "execution_count": 13,
   "metadata": {},
   "outputs": [
    {
     "name": "stdout",
     "output_type": "stream",
     "text": [
      "                                                name  year movie_rated  \\\n",
      "0                                          Inception  2010       PG-13   \n",
      "1  The Lord of the Rings: The Fellowship of the Ring  2001       PG-13   \n",
      "2      The Lord of the Rings: The Return of the King  2003       PG-13   \n",
      "3                              The Dark Knight Rises  2012       PG-13   \n",
      "4              The Lord of the Rings: The Two Towers  2002       PG-13   \n",
      "\n",
      "  run_length                       genres            release_date  rating  \\\n",
      "0   2h 28min  Action; Adventure; Sci-Fi;       16 July 2010 (USA)     8.8   \n",
      "1   2h 58min   Action; Adventure; Drama;   19 December 2001 (USA)     8.8   \n",
      "2   3h 21min  Adventure; Drama; Fantasy;   17 December 2003 (USA)     8.9   \n",
      "3   2h 44min          Action; Adventure;       20 July 2012 (USA)     8.4   \n",
      "4   2h 59min  Adventure; Drama; Fantasy;   18 December 2002 (USA)     8.7   \n",
      "\n",
      "   num_raters  num_reviews  \n",
      "0     1981675         3820  \n",
      "1     1609165         5365  \n",
      "2     1593859         3681  \n",
      "3     1470329         2979  \n",
      "4     1440188         2559  \n"
     ]
    }
   ],
   "source": [
    "import pandas as pd\n",
    "\n",
    "# Specify the correct path to the CSV file with the name of the CSV file\n",
    "dataset_path = r'C:\\Users\\bruker\\.cache\\kagglehub\\datasets\\krishnanshverma\\imdb-movies-dataset\\versions\\1\\merged_dataset.csv'\n",
    "\n",
    "# Load the dataset into a pandas DataFrame\n",
    "df = pd.read_csv(dataset_path)\n",
    "\n",
    "# Display the first few rows\n",
    "print(df.head())"
   ]
  },
  {
   "cell_type": "code",
   "execution_count": 14,
   "metadata": {},
   "outputs": [
    {
     "name": "stdout",
     "output_type": "stream",
     "text": [
      "Index(['name', 'year', 'movie_rated', 'run_length', 'genres', 'release_date',\n",
      "       'rating', 'num_raters', 'num_reviews'],\n",
      "      dtype='object')\n"
     ]
    }
   ],
   "source": [
    "#I want to look at the columns, and check the column names\n",
    "print(df.columns)"
   ]
  },
  {
   "cell_type": "code",
   "execution_count": 15,
   "metadata": {},
   "outputs": [
    {
     "name": "stdout",
     "output_type": "stream",
     "text": [
      "name             object\n",
      "year              int64\n",
      "movie_rated      object\n",
      "run_length       object\n",
      "genres           object\n",
      "release_date     object\n",
      "rating          float64\n",
      "num_raters        int64\n",
      "num_reviews       int64\n",
      "dtype: object\n"
     ]
    }
   ],
   "source": [
    "#I want to check which data types the columns are\n",
    "print(df.dtypes)\n",
    "#This is to check if e.g. year is a numeric format."
   ]
  },
  {
   "cell_type": "code",
   "execution_count": 25,
   "metadata": {},
   "outputs": [],
   "source": [
    "#I can see that \"run_length\" is object/in text format e.g. 2h 28 min as shown in line 3. Since I maybe want to analyze movie durations, I want to convert it into a numerical format, total minutes.\n",
    "#Since I have never done this before I asked ChatGPT how this could be done for all the movies.. \n",
    "\n",
    "#I convert \"run_lenght\" to a string line from int64\n",
    "df[\"run_length\"] = df[\"run_length\"].astype(str)\n",
    "\n",
    "#I extraxt hours and minutes\n",
    "df[[\"hours\", \"minutes\"]] = df[\"run_length\"].str.extract(r\"(?:(\\d+)h)?\\s*(?:(\\d+)min)?\")"
   ]
  },
  {
   "cell_type": "code",
   "execution_count": 26,
   "metadata": {},
   "outputs": [
    {
     "name": "stdout",
     "output_type": "stream",
     "text": [
      "   run_length\n",
      "0           0\n",
      "1           0\n",
      "2           0\n",
      "3           0\n",
      "4           0\n"
     ]
    },
    {
     "name": "stderr",
     "output_type": "stream",
     "text": [
      "C:\\Users\\bruker\\AppData\\Local\\Temp\\ipykernel_12940\\1813386449.py:2: FutureWarning: Downcasting object dtype arrays on .fillna, .ffill, .bfill is deprecated and will change in a future version. Call result.infer_objects(copy=False) instead. To opt-in to the future behavior, set `pd.set_option('future.no_silent_downcasting', True)`\n",
      "  df[\"hours\"] = df[\"hours\"].fillna(0).astype(int)\n",
      "C:\\Users\\bruker\\AppData\\Local\\Temp\\ipykernel_12940\\1813386449.py:3: FutureWarning: Downcasting object dtype arrays on .fillna, .ffill, .bfill is deprecated and will change in a future version. Call result.infer_objects(copy=False) instead. To opt-in to the future behavior, set `pd.set_option('future.no_silent_downcasting', True)`\n",
      "  df[\"minutes\"] = df[\"minutes\"].fillna(0).astype(int)\n"
     ]
    }
   ],
   "source": [
    "#Convert to numeric (fill missing values with 0)\n",
    "df[\"hours\"] = df[\"hours\"].fillna(0).astype(int)\n",
    "df[\"minutes\"] = df[\"minutes\"].fillna(0).astype(int)\n",
    "\n",
    "#Convert everything to total minutes\n",
    "df[\"run_length\"] = df[\"hours\"] * 60 + df[\"minutes\"]\n",
    "\n",
    "#drop temporary columns\n",
    "df.drop(columns=[\"hours\", \"minutes\"], inplace=True)\n",
    "\n",
    "#Save back to CSV\n",
    "df.to_csv(dataset_path, index=False)\n",
    "\n",
    "#printing the sample data to verify\n",
    "print(df[[\"run_length\"]].head())\n"
   ]
  }
 ],
 "metadata": {
  "kernelspec": {
   "display_name": "Python 3",
   "language": "python",
   "name": "python3"
  },
  "language_info": {
   "codemirror_mode": {
    "name": "ipython",
    "version": 3
   },
   "file_extension": ".py",
   "mimetype": "text/x-python",
   "name": "python",
   "nbconvert_exporter": "python",
   "pygments_lexer": "ipython3",
   "version": "3.13.1"
  }
 },
 "nbformat": 4,
 "nbformat_minor": 2
}
